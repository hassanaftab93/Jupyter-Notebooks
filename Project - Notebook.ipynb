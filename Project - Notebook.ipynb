{
    "cells": [
        {
            "metadata": {
                "collapsed": true
            },
            "cell_type": "markdown",
            "source": "# My Jupyter Notebook on IBM Watson Studio"
        },
        {
            "metadata": {},
            "cell_type": "markdown",
            "source": "<b>Hassan Aftab</b>\n\nDesired Occupation: Data Analyst"
        },
        {
            "metadata": {},
            "cell_type": "markdown",
            "source": "*I am interested in Data Science because I am curious to learn and apply such knowledge in real life. Python has always been my favourite programming language since my Computer Science Degree*"
        },
        {
            "metadata": {},
            "cell_type": "markdown",
            "source": "### Here is some python code i wrote as practice.\n\n### It Prints a table of whatever number you will input in the function call."
        },
        {
            "metadata": {},
            "cell_type": "code",
            "source": "number = 0\n\ndef PrintTable(number):\n    for i in range(1,11):\n        print('%d * %d = %d' %(number,i,number*i))\n\nPrintTable(3)",
            "execution_count": 11,
            "outputs": [
                {
                    "output_type": "stream",
                    "text": "3 * 1 = 3\n3 * 2 = 6\n3 * 3 = 9\n3 * 4 = 12\n3 * 5 = 15\n3 * 6 = 18\n3 * 7 = 21\n3 * 8 = 24\n3 * 9 = 27\n3 * 10 = 30\n",
                    "name": "stdout"
                }
            ]
        },
        {
            "metadata": {},
            "cell_type": "markdown",
            "source": "---"
        },
        {
            "metadata": {},
            "cell_type": "markdown",
            "source": "> \"Example of Blocked Quote\" - Hassan Aftab"
        },
        {
            "metadata": {},
            "cell_type": "markdown",
            "source": "Table:\n\n|Col 1|Col 2|Col 3|\n|----|----|----|\n|Row 1|Row 1|Row 1|\n|Row 2|Row 2|Row 2|"
        }
    ],
    "metadata": {
        "kernelspec": {
            "name": "python3",
            "display_name": "Python 3.7",
            "language": "python"
        },
        "language_info": {
            "name": "python",
            "version": "3.7.9",
            "mimetype": "text/x-python",
            "codemirror_mode": {
                "name": "ipython",
                "version": 3
            },
            "pygments_lexer": "ipython3",
            "nbconvert_exporter": "python",
            "file_extension": ".py"
        }
    },
    "nbformat": 4,
    "nbformat_minor": 1
}