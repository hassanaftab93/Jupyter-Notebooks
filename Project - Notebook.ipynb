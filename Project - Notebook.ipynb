{
    "cells": [
        {
            "metadata": {
                "collapsed": true
            },
            "cell_type": "markdown",
            "source": "# Tools for Data Science Project"
        },
        {
            "metadata": {},
            "cell_type": "markdown",
            "source": "## Name: Hassan Aftab\n## Date:   19-02-2021"
        },
        {
            "metadata": {},
            "cell_type": "markdown",
            "source": "### Purpose:"
        },
        {
            "metadata": {},
            "cell_type": "markdown",
            "source": "This is my project notebook deliverable for the last week of the course \"Tools for Data Science\""
        },
        {
            "metadata": {},
            "cell_type": "markdown",
            "source": "Here is some python code i wrote as practice.\n\nIt Prints a table of whatever number you will input in the function call."
        },
        {
            "metadata": {},
            "cell_type": "code",
            "source": "number = 0\n\ndef PrintTable(number):\n    for i in range(1,11):\n        print('%d * %d = %d' %(number,i,number*i))",
            "execution_count": 8,
            "outputs": []
        },
        {
            "metadata": {},
            "cell_type": "markdown",
            "source": "#### For my peers:"
        },
        {
            "metadata": {},
            "cell_type": "markdown",
            "source": "This is a function which will take any number and print its table from 1 - 10\n"
        },
        {
            "metadata": {},
            "cell_type": "markdown",
            "source": "The %d you see in the print function a placeholders, the values to be put in are defined at the end."
        },
        {
            "metadata": {},
            "cell_type": "markdown",
            "source": "Now lets call the function, and print a table for 3."
        },
        {
            "metadata": {},
            "cell_type": "code",
            "source": "PrintTable(3)",
            "execution_count": 9,
            "outputs": [
                {
                    "output_type": "stream",
                    "text": "3 * 1 = 3\n3 * 2 = 6\n3 * 3 = 9\n3 * 4 = 12\n3 * 5 = 15\n3 * 6 = 18\n3 * 7 = 21\n3 * 8 = 24\n3 * 9 = 27\n3 * 10 = 30\n",
                    "name": "stdout"
                }
            ]
        },
        {
            "metadata": {},
            "cell_type": "markdown",
            "source": "Voila!"
        },
        {
            "metadata": {},
            "cell_type": "markdown",
            "source": "### Thankyou for reviewing my Jupyter Notebook."
        },
        {
            "metadata": {},
            "cell_type": "code",
            "source": "",
            "execution_count": null,
            "outputs": []
        }
    ],
    "metadata": {
        "kernelspec": {
            "name": "python3",
            "display_name": "Python 3.7",
            "language": "python"
        },
        "language_info": {
            "name": "python",
            "version": "3.7.9",
            "mimetype": "text/x-python",
            "codemirror_mode": {
                "name": "ipython",
                "version": 3
            },
            "pygments_lexer": "ipython3",
            "nbconvert_exporter": "python",
            "file_extension": ".py"
        }
    },
    "nbformat": 4,
    "nbformat_minor": 1
}